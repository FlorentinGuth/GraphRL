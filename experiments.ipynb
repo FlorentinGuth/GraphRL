{
 "cells": [
  {
   "cell_type": "code",
   "execution_count": 3,
   "metadata": {},
   "outputs": [],
   "source": [
    "import numpy as np\n",
    "import matplotlib.pyplot as plt\n",
    "import gym"
   ]
  },
  {
   "cell_type": "code",
   "execution_count": 1,
   "metadata": {},
   "outputs": [
    {
     "ename": "NameError",
     "evalue": "name 'np' is not defined",
     "output_type": "error",
     "traceback": [
      "\u001b[1;31m---------------------------------------------------------------------------\u001b[0m",
      "\u001b[1;31mNameError\u001b[0m                                 Traceback (most recent call last)",
      "\u001b[1;32m<ipython-input-1-637416857d18>\u001b[0m in \u001b[0;36m<module>\u001b[1;34m()\u001b[0m\n\u001b[0;32m     38\u001b[0m         \u001b[0mplt\u001b[0m\u001b[1;33m.\u001b[0m\u001b[0mshow\u001b[0m\u001b[1;33m(\u001b[0m\u001b[1;33m)\u001b[0m\u001b[1;33m\u001b[0m\u001b[0m\n\u001b[0;32m     39\u001b[0m \u001b[1;33m\u001b[0m\u001b[0m\n\u001b[1;32m---> 40\u001b[1;33m \u001b[0menv\u001b[0m \u001b[1;33m=\u001b[0m \u001b[0mGridEnv\u001b[0m\u001b[1;33m(\u001b[0m\u001b[0mnp\u001b[0m\u001b[1;33m.\u001b[0m\u001b[0mempty\u001b[0m\u001b[1;33m(\u001b[0m\u001b[1;33m(\u001b[0m\u001b[1;36m10\u001b[0m\u001b[1;33m,\u001b[0m \u001b[1;36m20\u001b[0m\u001b[1;33m,\u001b[0m \u001b[1;36m5\u001b[0m\u001b[1;33m)\u001b[0m\u001b[1;33m)\u001b[0m\u001b[1;33m,\u001b[0m \u001b[0mnp\u001b[0m\u001b[1;33m.\u001b[0m\u001b[0marray\u001b[0m\u001b[1;33m(\u001b[0m\u001b[1;33m[\u001b[0m\u001b[1;36m0\u001b[0m\u001b[1;33m,\u001b[0m \u001b[1;36m0\u001b[0m\u001b[1;33m,\u001b[0m \u001b[1;36m0\u001b[0m\u001b[1;33m]\u001b[0m\u001b[1;33m)\u001b[0m\u001b[1;33m,\u001b[0m \u001b[1;36m10\u001b[0m\u001b[1;33m)\u001b[0m\u001b[1;33m\u001b[0m\u001b[0m\n\u001b[0m",
      "\u001b[1;31mNameError\u001b[0m: name 'np' is not defined"
     ]
    }
   ],
   "source": [
    "class GridEnv:\n",
    "    def __init__(self, grid, init, B):\n",
    "        \"\"\"\n",
    "        grid is a D-dimensional array, 1 for walkable, 0 for non-walkable. It is assumed to have borders of 0s\n",
    "        B is the number of parallel trajectories to simulate\n",
    "        \n",
    "        a pos is BxD array\n",
    "        an action is an integer, index in the directions array\n",
    "        \"\"\"\n",
    "        self.grid = grid\n",
    "        self.size = np.array(self.grid.shape)\n",
    "        self.init = init\n",
    "        self.D = len(self.grid.shape)\n",
    "        self.B = B\n",
    "        self.pos = np.repeat(self.init[None,:], self.B, axis=0) # BxD\n",
    "        self.dirs = np.zeros((2*self.D, self.D)) # AxD\n",
    "        actions = np.arange(2*self.D)\n",
    "        self.dirs[actions, actions//2] = 2*(actions % 2) - 1\n",
    "    \n",
    "    def step(a):\n",
    "        \"\"\"\n",
    "        a is B array of actions\n",
    "        returns observation of new state, reward, done, debug\n",
    "        \"\"\"\n",
    "        new_pos = self.pos + self.dirs[a]\n",
    "        # walkable[b] = grid[new_pos[b][0], new_pos[b][1], ...]\n",
    "        walkable = grid[tuple(new_pos.T)]\n",
    "        self.pos[walkable] = new_pos[walkable]\n",
    "        return self.pos, walkable.astype(float) - 1, np.zeros(self.B, dtype=bool), None\n",
    "    \n",
    "    def render():\n",
    "        if self.D != 2:\n",
    "            raise ValueError('Impossible to render non-2D ')\n",
    "        figure()\n",
    "        image = self.grid\n",
    "        plt.imshow(image)\n",
    "        plt.scatter(*self.pos.T, marker='x')\n",
    "        plt.show()\n",
    "    \n",
    "env = GridEnv(np.empty((10, 20, 5)), np.array([0, 0, 0]), 10)"
   ]
  },
  {
   "cell_type": "code",
   "execution_count": 6,
   "metadata": {},
   "outputs": [
    {
     "data": {
      "image/png": "[encoded data removed]",
      "text/plain": [
       "<Figure size 432x288 with 1 Axes>"
      ]
     },
     "metadata": {
      "needs_background": "light"
     },
     "output_type": "display_data"
    }
   ],
   "source": [
    "plt.figure()\n",
    "image = np.arange(16 ** 2).reshape(16, 16)\n",
    "plt.imshow(image)\n",
    "# plt.scatter(*self.pos.T, marker='x')\n",
    "plt.show()"
   ]
  },
  {
   "cell_type": "code",
   "execution_count": 30,
   "metadata": {},
   "outputs": [
    {
     "data": {
      "text/plain": [
       "array([1], dtype=int64)"
      ]
     },
     "execution_count": 30,
     "metadata": {},
     "output_type": "execute_result"
    }
   ],
   "source": [
    "np.where(np.arange(5) == 1)[0]"
   ]
  },
  {
   "cell_type": "code",
   "execution_count": null,
   "metadata": {},
   "outputs": [],
   "source": []
  }
 ],
 "metadata": {
  "kernelspec": {
   "display_name": "Python 3",
   "language": "python",
   "name": "python3"
  },
  "language_info": {
   "codemirror_mode": {
    "name": "ipython",
    "version": 3
   },
   "file_extension": ".py",
   "mimetype": "text/x-python",
   "name": "python",
   "nbconvert_exporter": "python",
   "pygments_lexer": "ipython3",
   "version": "3.7.0"
  }
 },
 "nbformat": 4,
 "nbformat_minor": 2
}
