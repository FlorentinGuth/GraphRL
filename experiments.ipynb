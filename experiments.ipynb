{
 "cells": [
  {
   "cell_type": "code",
   "execution_count": 1,
   "metadata": {},
   "outputs": [],
   "source": [
    "import numpy as np\n",
    "import matplotlib.pyplot as plt\n",
    "import torch as th\n",
    "from src.grid import *"
   ]
  },
  {
   "cell_type": "code",
   "execution_count": 2,
   "metadata": {},
   "outputs": [
    {
     "name": "stdout",
     "output_type": "stream",
     "text": [
      "finish: 11943.3 ± 140.5 steps\n"
     ]
    },
    {
     "data": {
      "image/png": "[encoded data removed]",
      "text/plain": [
       "<Figure size 432x288 with 1 Axes>"
      ]
     },
     "metadata": {},
     "output_type": "display_data"
    }
   ],
   "source": [
    "env = GridEnv(read_grid('grids/grid.png'), batch=4096)\n",
    "visits = th.zeros(env.grid.size(), dtype=th.long)\n",
    "finish_t = []\n",
    "for _ in range(4096 * 4):\n",
    "    pos, _, _, finish_times = env.step(th.randint(0, env.D * 2, size=(env.B,), dtype=th.long))\n",
    "    for t in finish_times:\n",
    "        finish_t.append(t)\n",
    "    visits[pos[:, 0], pos[:, 1]] += 1\n",
    "finish_t = th.tensor(finish_t, dtype=th.float32)\n",
    "print('finish: {:.1f} ± {:.1f} steps'.format(finish_t.mean(), finish_t.std() / np.sqrt(finish_t.numel())))\n",
    "plt.figure()\n",
    "plt.imshow(visits)\n",
    "plt.show()"
   ]
  }
 ],
 "metadata": {
  "kernelspec": {
   "display_name": "Python 3",
   "language": "python",
   "name": "python3"
  },
  "language_info": {
   "codemirror_mode": {
    "name": "ipython",
    "version": 3
   },
   "file_extension": ".py",
   "mimetype": "text/x-python",
   "name": "python",
   "nbconvert_exporter": "python",
   "pygments_lexer": "ipython3",
   "version": "3.6.6"
  }
 },
 "nbformat": 4,
 "nbformat_minor": 2
}
