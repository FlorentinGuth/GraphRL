{
 "cells": [
  {
   "cell_type": "code",
   "execution_count": 1,
   "metadata": {},
   "outputs": [],
   "source": [
    "import numpy as np\n",
    "import matplotlib.pyplot as plt\n",
    "import gym"
   ]
  },
  {
   "cell_type": "code",
   "execution_count": 9,
   "metadata": {},
   "outputs": [
    {
     "name": "stdout",
     "output_type": "stream",
     "text": [
      "[[-1.  0.  0.]\n",
      " [ 1.  0.  0.]\n",
      " [ 0. -1.  0.]\n",
      " [ 0.  1.  0.]\n",
      " [ 0.  0. -1.]\n",
      " [ 0.  0.  1.]]\n"
     ]
    }
   ],
   "source": [
    "class GridEnv:\n",
    "    def __init__(self, grid, init, B):\n",
    "        \"\"\"\n",
    "        grid is a D-dimensional array, 1 for walkable, 0 for non-walkable. It is assumed to have borders of 0s\n",
    "        B is the number of parallel trajectories to simulate\n",
    "        \n",
    "        a pos is BxD array\n",
    "        an action is an integer, index in the directions array\n",
    "        \"\"\"\n",
    "        self.grid = grid\n",
    "        self.size = np.array(self.grid.shape)\n",
    "        self.init = init\n",
    "        self.D = len(self.grid.shape)\n",
    "        self.B = B\n",
    "        self.pos = np.repeat(self.init[None,:], self.B, axis=0) # BxD\n",
    "        self.dirs = np.zeros((2*self.D, self.D)) # AxD\n",
    "        actions = np.arange(2*self.D)\n",
    "        self.dirs[actions, actions//2] = 2*(actions % 2) - 1\n",
    "    \n",
    "    def step(a):\n",
    "        \"\"\"\n",
    "        a is B array of actions\n",
    "        returns observation of new state, reward, done, debug\n",
    "        \"\"\"\n",
    "        new_pos = self.pos + self.dirs[a]\n",
    "        # walkable[b] = grid[new_pos[b][0], new_pos[b][1], ...]\n",
    "        walkable = grid[tuple(new_pos.T)]\n",
    "        self.pos[walkable] = new_pos[walkable]\n",
    "        return self.pos, walkable.astype(float) - 1, np.zeros(self.B, dtype=bool), None\n",
    "    \n",
    "    def render():\n",
    "        if self.D != 2:\n",
    "            raise ValueError('Impossible to render non-2D ')\n",
    "        figure()\n",
    "        image = self.grid\n",
    "        plt.imshow(image)\n",
    "        plt.scatter(*self.pos)\n",
    "    \n",
    "env = GridEnv(np.empty((10, 20, 5)), np.array([0, 0, 0]), 10)"
   ]
  }
 ],
 "metadata": {
  "kernelspec": {
   "display_name": "Python 3",
   "language": "python",
   "name": "python3"
  },
  "language_info": {
   "codemirror_mode": {
    "name": "ipython",
    "version": 3
   },
   "file_extension": ".py",
   "mimetype": "text/x-python",
   "name": "python",
   "nbconvert_exporter": "python",
   "pygments_lexer": "ipython3",
   "version": "3.6.6"
  }
 },
 "nbformat": 4,
 "nbformat_minor": 2
}
